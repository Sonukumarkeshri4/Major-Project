{
 "cells": [
  {
   "cell_type": "markdown",
   "id": "47cffbbf",
   "metadata": {},
   "source": [
    "### Importing Libraries"
   ]
  },
  {
   "cell_type": "code",
   "execution_count": 1,
   "id": "6544edc7",
   "metadata": {},
   "outputs": [],
   "source": [
    "import cv2\n",
    "import os\n",
    "import tensorflow as tf\n",
    "import numpy as np\n",
    "import imageio\n",
    "from typing import List\n",
    "from matplotlib import pyplot as plt"
   ]
  },
  {
   "cell_type": "markdown",
   "id": "41408708",
   "metadata": {},
   "source": [
    "#### For memory saving in collab, To prevent exponential memory growth"
   ]
  },
  {
   "cell_type": "code",
   "execution_count": 2,
   "id": "0239c0fc",
   "metadata": {},
   "outputs": [],
   "source": [
    "physical_devices = tf.config.list_physical_devices('CPU')\n",
    "try:\n",
    "    tf.config.experimental.set_memory_growth(physical_devices[0], True)\n",
    "except:\n",
    "    pass"
   ]
  },
  {
   "cell_type": "markdown",
   "id": "aaf720b1",
   "metadata": {},
   "source": [
    "#### Function to load a video from a specified path, preprocess the frames, and return a list of normalized and standardized grayscale frames.\n"
   ]
  },
  {
   "cell_type": "code",
   "execution_count": 12,
   "id": "f3a671fb",
   "metadata": {},
   "outputs": [],
   "source": [
    "def load_video(path:str) -> List[float]: \n",
    "\n",
    "    cap = cv2.VideoCapture(path)\n",
    "    # list for storing images\n",
    "    frames = []\n",
    "    for _ in range(int(cap.get(cv2.CAP_PROP_FRAME_COUNT))): \n",
    "        ret, frame = cap.read()\n",
    "        frame = tf.image.rgb_to_grayscale(frame)\n",
    "        frames.append(frame[120:236,80:220,:]) #isolating mouth region\n",
    "    cap.release()\n",
    "    \n",
    "    mean = tf.math.reduce_mean(frames)\n",
    "    std = tf.math.reduce_std(tf.cast(frames, tf.float32)) # standard deviation\n",
    "    return tf.cast((frames - mean), tf.float32) / std"
   ]
  },
  {
   "cell_type": "code",
   "execution_count": 4,
   "id": "80c8cf00",
   "metadata": {},
   "outputs": [],
   "source": [
    "vocab = [x for x in \"abcdefghijklmnopqrstuvwxyz'?!123456789 \"]"
   ]
  },
  {
   "cell_type": "code",
   "execution_count": 5,
   "id": "71e65414",
   "metadata": {},
   "outputs": [
    {
     "data": {
      "text/plain": [
       "['a',\n",
       " 'b',\n",
       " 'c',\n",
       " 'd',\n",
       " 'e',\n",
       " 'f',\n",
       " 'g',\n",
       " 'h',\n",
       " 'i',\n",
       " 'j',\n",
       " 'k',\n",
       " 'l',\n",
       " 'm',\n",
       " 'n',\n",
       " 'o',\n",
       " 'p',\n",
       " 'q',\n",
       " 'r',\n",
       " 's',\n",
       " 't',\n",
       " 'u',\n",
       " 'v',\n",
       " 'w',\n",
       " 'x',\n",
       " 'y',\n",
       " 'z',\n",
       " \"'\",\n",
       " '?',\n",
       " '!',\n",
       " '1',\n",
       " '2',\n",
       " '3',\n",
       " '4',\n",
       " '5',\n",
       " '6',\n",
       " '7',\n",
       " '8',\n",
       " '9',\n",
       " ' ']"
      ]
     },
     "execution_count": 5,
     "metadata": {},
     "output_type": "execute_result"
    }
   ],
   "source": [
    "vocab"
   ]
  },
  {
   "cell_type": "code",
   "execution_count": 6,
   "id": "97a176d0",
   "metadata": {},
   "outputs": [
    {
     "name": "stdout",
     "output_type": "stream",
     "text": [
      "The vocabulary is: ['', 'a', 'b', 'c', 'd', 'e', 'f', 'g', 'h', 'i', 'j', 'k', 'l', 'm', 'n', 'o', 'p', 'q', 'r', 's', 't', 'u', 'v', 'w', 'x', 'y', 'z', \"'\", '?', '!', '1', '2', '3', '4', '5', '6', '7', '8', '9', ' '] \n",
      "(size =40)\n"
     ]
    }
   ],
   "source": [
    "# function to convert char list to integers\n",
    "char_to_num = tf.keras.layers.StringLookup(vocabulary=vocab, oov_token=\"\")\n",
    "# function to convert integers list to char list\n",
    "num_to_char = tf.keras.layers.StringLookup(\n",
    "    vocabulary=char_to_num.get_vocabulary(), oov_token=\"\", invert=True\n",
    ")\n",
    "\n",
    "print(\n",
    "    f\"The vocabulary is: {char_to_num.get_vocabulary()} \"\n",
    "    \"\\n\"\n",
    "    f\"(size ={char_to_num.vocabulary_size()})\"\n",
    ")"
   ]
  },
  {
   "cell_type": "markdown",
   "id": "0390875b",
   "metadata": {},
   "source": [
    "#### To load the .align files from the folder for Training purpose\n"
   ]
  },
  {
   "cell_type": "code",
   "execution_count": 14,
   "id": "fde8ea5c",
   "metadata": {},
   "outputs": [],
   "source": [
    "# Our .align files are loaded by this function for preprocessing\n",
    "def load_alignments(path:str) -> List[str]: \n",
    "    with open(path, 'r') as f: \n",
    "        lines = f.readlines() \n",
    "    tokens = []\n",
    "    for line in lines:\n",
    "        line = line.split()\n",
    "        # for removing the sil (silence) from align file lines.\n",
    "        if line[2] != 'sil': \n",
    "            tokens = [*tokens,' ',line[2]]\n",
    "    return char_to_num(tf.reshape(tf.strings.unicode_split(tokens, input_encoding='UTF-8'), (-1)))[1:]"
   ]
  },
  {
   "cell_type": "code",
   "execution_count": 15,
   "id": "56c6bd91",
   "metadata": {},
   "outputs": [],
   "source": [
    "def load_data(path: str): \n",
    "    path = bytes.decode(path.numpy())\n",
    "    #file_name = path.split('/')[-1].split('.')[0]\n",
    "    # File name splitting for windows\n",
    "    file_name = path.split('\\\\')[-1].split('.')[0]\n",
    "    video_path = os.path.join('data','s1',f'{file_name}.mpg')\n",
    "    alignment_path = os.path.join('data','alignments','s1',f'{file_name}.align')\n",
    "    frames = load_video(video_path) \n",
    "    alignments = load_alignments(alignment_path)\n",
    "    \n",
    "    return frames, alignments"
   ]
  },
  {
   "cell_type": "code",
   "execution_count": 16,
   "id": "46958185",
   "metadata": {},
   "outputs": [],
   "source": [
    "test_path = '.\\\\data\\\\s1\\\\swwp2n.mpg'"
   ]
  },
  {
   "cell_type": "code",
   "execution_count": 17,
   "id": "e33b0ef9",
   "metadata": {},
   "outputs": [
    {
     "data": {
      "text/plain": [
       "'swwp2n'"
      ]
     },
     "execution_count": 17,
     "metadata": {},
     "output_type": "execute_result"
    }
   ],
   "source": [
    "tf.convert_to_tensor(test_path).numpy().decode('utf-8').split('\\\\')[-1].split('.')[0] \n",
    "# just formating the path data (removing \\\\ and other sub-names)"
   ]
  },
  {
   "cell_type": "code",
   "execution_count": 18,
   "id": "4b42c66d",
   "metadata": {},
   "outputs": [],
   "source": [
    "frames, alignments = load_data(tf.convert_to_tensor(test_path))"
   ]
  },
  {
   "cell_type": "code",
   "execution_count": 19,
   "id": "540f47ff",
   "metadata": {},
   "outputs": [
    {
     "data": {
      "text/plain": [
       "<matplotlib.image.AxesImage at 0x2b02fcbb190>"
      ]
     },
     "execution_count": 19,
     "metadata": {},
     "output_type": "execute_result"
    },
    {
     "data": {
      "image/png": "[encoded data removed]",
      "text/plain": [
       "<Figure size 640x480 with 1 Axes>"
      ]
     },
     "metadata": {},
     "output_type": "display_data"
    }
   ],
   "source": [
    "plt.imshow(frames[27])"
   ]
  },
  {
   "cell_type": "code",
   "execution_count": 19,
   "id": "531192c9",
   "metadata": {},
   "outputs": [
    {
     "data": {
      "text/plain": [
       "<tf.Tensor: shape=(), dtype=string, numpy=b'set white with p two now'>"
      ]
     },
     "execution_count": 19,
     "metadata": {},
     "output_type": "execute_result"
    }
   ],
   "source": [
    "tf.strings.reduce_join([bytes.decode(x) for x in num_to_char(alignments.numpy()).numpy()])\n",
    "# [bytes.decode(x) for x in num_to_char(alignments.numpy()).numpy()] >>> will give the transcipted vaue"
   ]
  },
  {
   "cell_type": "code",
   "execution_count": 20,
   "id": "bf81541a",
   "metadata": {},
   "outputs": [],
   "source": [
    "def mappable_function(path:str) ->List[str]:\n",
    "    result = tf.py_function(load_data, [path], (tf.float32, tf.int64))\n",
    "    return result"
   ]
  },
  {
   "cell_type": "markdown",
   "id": "4e033d94",
   "metadata": {},
   "source": [
    "### Data Pipeline for neural network"
   ]
  },
  {
   "cell_type": "code",
   "execution_count": 21,
   "id": "59c8f52f",
   "metadata": {},
   "outputs": [],
   "source": [
    "data = tf.data.Dataset.list_files('./data/s1/*.mpg')\n",
    "data = data.shuffle(500, reshuffle_each_iteration=False)\n",
    "data = data.map(mappable_function)\n",
    "data = data.padded_batch(2, padded_shapes=([75,None,None,None],[40]))\n",
    "data = data.prefetch(tf.data.AUTOTUNE)\n",
    "# Added for split \n",
    "train = data.take(450)\n",
    "test = data.skip(450)"
   ]
  },
  {
   "cell_type": "code",
   "execution_count": 22,
   "id": "67d8a711",
   "metadata": {},
   "outputs": [],
   "source": [
    "frames, alignments = data.as_numpy_iterator().next()"
   ]
  },
  {
   "cell_type": "code",
   "execution_count": 23,
   "id": "a900d83b",
   "metadata": {},
   "outputs": [],
   "source": [
    "sample = data.as_numpy_iterator()"
   ]
  },
  {
   "cell_type": "code",
   "execution_count": 24,
   "id": "13649b3a",
   "metadata": {
    "scrolled": true
   },
   "outputs": [
    {
     "data": {
      "text/plain": [
       "array([[[[[1.6076925 ],\n",
       "          [1.4250002 ],\n",
       "          [1.3884617 ],\n",
       "          ...,\n",
       "          [0.29230773],\n",
       "          [0.29230773],\n",
       "          [0.29230773]],\n",
       "\n",
       "         [[1.6807694 ],\n",
       "          [1.5346155 ],\n",
       "          [1.3884617 ],\n",
       "          ...,\n",
       "          [0.29230773],\n",
       "          [0.29230773],\n",
       "          [0.29230773]],\n",
       "\n",
       "         [[1.4250002 ],\n",
       "          [1.4250002 ],\n",
       "          [1.4615387 ],\n",
       "          ...,\n",
       "          [0.40192312],\n",
       "          [0.29230773],\n",
       "          [0.29230773]],\n",
       "\n",
       "         ...,\n",
       "\n",
       "         [[1.023077  ],\n",
       "          [1.023077  ],\n",
       "          [0.9865386 ],\n",
       "          ...,\n",
       "          [9.317308  ],\n",
       "          [9.317308  ],\n",
       "          [9.317308  ]],\n",
       "\n",
       "         [[1.023077  ],\n",
       "          [1.023077  ],\n",
       "          [0.9865386 ],\n",
       "          ...,\n",
       "          [9.317308  ],\n",
       "          [9.317308  ],\n",
       "          [9.317308  ]],\n",
       "\n",
       "         [[1.023077  ],\n",
       "          [1.023077  ],\n",
       "          [0.9865386 ],\n",
       "          ...,\n",
       "          [9.317308  ],\n",
       "          [9.317308  ],\n",
       "          [9.244232  ]]],\n",
       "\n",
       "\n",
       "        [[[1.4615387 ],\n",
       "          [1.4250002 ],\n",
       "          [1.2788463 ],\n",
       "          ...,\n",
       "          [0.3288462 ],\n",
       "          [0.29230773],\n",
       "          [0.29230773]],\n",
       "\n",
       "         [[1.5346155 ],\n",
       "          [1.3884617 ],\n",
       "          [1.2788463 ],\n",
       "          ...,\n",
       "          [0.3288462 ],\n",
       "          [0.29230773],\n",
       "          [0.29230773]],\n",
       "\n",
       "         [[1.4250002 ],\n",
       "          [1.4250002 ],\n",
       "          [1.3884617 ],\n",
       "          ...,\n",
       "          [0.36538467],\n",
       "          [0.25576925],\n",
       "          [0.25576925]],\n",
       "\n",
       "         ...,\n",
       "\n",
       "         [[1.023077  ],\n",
       "          [1.023077  ],\n",
       "          [0.9865386 ],\n",
       "          ...,\n",
       "          [9.317308  ],\n",
       "          [9.317308  ],\n",
       "          [9.317308  ]],\n",
       "\n",
       "         [[0.9865386 ],\n",
       "          [0.9865386 ],\n",
       "          [0.9500001 ],\n",
       "          ...,\n",
       "          [9.317308  ],\n",
       "          [9.317308  ],\n",
       "          [9.317308  ]],\n",
       "\n",
       "         [[0.9865386 ],\n",
       "          [0.9865386 ],\n",
       "          [0.9500001 ],\n",
       "          ...,\n",
       "          [9.317308  ],\n",
       "          [9.317308  ],\n",
       "          [9.244232  ]]],\n",
       "\n",
       "\n",
       "        [[[1.4615387 ],\n",
       "          [1.4250002 ],\n",
       "          [1.2788463 ],\n",
       "          ...,\n",
       "          [0.25576925],\n",
       "          [0.2192308 ],\n",
       "          [0.2192308 ]],\n",
       "\n",
       "         [[1.5346155 ],\n",
       "          [1.3884617 ],\n",
       "          [1.2788463 ],\n",
       "          ...,\n",
       "          [0.25576925],\n",
       "          [0.2192308 ],\n",
       "          [0.2192308 ]],\n",
       "\n",
       "         [[1.4980772 ],\n",
       "          [1.4980772 ],\n",
       "          [1.3884617 ],\n",
       "          ...,\n",
       "          [0.3288462 ],\n",
       "          [0.25576925],\n",
       "          [0.25576925]],\n",
       "\n",
       "         ...,\n",
       "\n",
       "         [[1.0596155 ],\n",
       "          [1.0596155 ],\n",
       "          [1.023077  ],\n",
       "          ...,\n",
       "          [9.317308  ],\n",
       "          [9.317308  ],\n",
       "          [9.317308  ]],\n",
       "\n",
       "         [[1.023077  ],\n",
       "          [1.023077  ],\n",
       "          [0.9500001 ],\n",
       "          ...,\n",
       "          [9.317308  ],\n",
       "          [9.317308  ],\n",
       "          [9.317308  ]],\n",
       "\n",
       "         [[0.9865386 ],\n",
       "          [0.9865386 ],\n",
       "          [0.9500001 ],\n",
       "          ...,\n",
       "          [9.317308  ],\n",
       "          [9.317308  ],\n",
       "          [9.244232  ]]],\n",
       "\n",
       "\n",
       "        ...,\n",
       "\n",
       "\n",
       "        [[[1.2788463 ],\n",
       "          [1.4250002 ],\n",
       "          [1.4615387 ],\n",
       "          ...,\n",
       "          [0.36538467],\n",
       "          [0.3288462 ],\n",
       "          [0.3288462 ]],\n",
       "\n",
       "         [[1.2788463 ],\n",
       "          [1.3153847 ],\n",
       "          [1.3519232 ],\n",
       "          ...,\n",
       "          [0.36538467],\n",
       "          [0.3288462 ],\n",
       "          [0.3288462 ]],\n",
       "\n",
       "         [[1.3519232 ],\n",
       "          [1.3519232 ],\n",
       "          [1.3519232 ],\n",
       "          ...,\n",
       "          [0.36538467],\n",
       "          [0.36538467],\n",
       "          [0.36538467]],\n",
       "\n",
       "         ...,\n",
       "\n",
       "         [[1.023077  ],\n",
       "          [1.023077  ],\n",
       "          [1.023077  ],\n",
       "          ...,\n",
       "          [0.        ],\n",
       "          [9.317308  ],\n",
       "          [9.317308  ]],\n",
       "\n",
       "         [[1.023077  ],\n",
       "          [1.023077  ],\n",
       "          [1.023077  ],\n",
       "          ...,\n",
       "          [9.317308  ],\n",
       "          [9.317308  ],\n",
       "          [9.317308  ]],\n",
       "\n",
       "         [[1.023077  ],\n",
       "          [1.023077  ],\n",
       "          [0.9865386 ],\n",
       "          ...,\n",
       "          [9.244232  ],\n",
       "          [9.244232  ],\n",
       "          [9.244232  ]]],\n",
       "\n",
       "\n",
       "        [[[1.3884617 ],\n",
       "          [1.4980772 ],\n",
       "          [1.3519232 ],\n",
       "          ...,\n",
       "          [0.36538467],\n",
       "          [0.3288462 ],\n",
       "          [0.3288462 ]],\n",
       "\n",
       "         [[1.3519232 ],\n",
       "          [1.4980772 ],\n",
       "          [1.2788463 ],\n",
       "          ...,\n",
       "          [0.36538467],\n",
       "          [0.3288462 ],\n",
       "          [0.3288462 ]],\n",
       "\n",
       "         [[1.4250002 ],\n",
       "          [1.4250002 ],\n",
       "          [1.3884617 ],\n",
       "          ...,\n",
       "          [0.36538467],\n",
       "          [0.36538467],\n",
       "          [0.36538467]],\n",
       "\n",
       "         ...,\n",
       "\n",
       "         [[1.0596155 ],\n",
       "          [1.023077  ],\n",
       "          [1.023077  ],\n",
       "          ...,\n",
       "          [0.        ],\n",
       "          [9.317308  ],\n",
       "          [9.317308  ]],\n",
       "\n",
       "         [[1.0596155 ],\n",
       "          [1.023077  ],\n",
       "          [1.023077  ],\n",
       "          ...,\n",
       "          [9.317308  ],\n",
       "          [9.317308  ],\n",
       "          [9.317308  ]],\n",
       "\n",
       "         [[1.0596155 ],\n",
       "          [1.023077  ],\n",
       "          [1.023077  ],\n",
       "          ...,\n",
       "          [9.244232  ],\n",
       "          [9.244232  ],\n",
       "          [9.244232  ]]],\n",
       "\n",
       "\n",
       "        [[[1.3884617 ],\n",
       "          [1.5346155 ],\n",
       "          [1.4615387 ],\n",
       "          ...,\n",
       "          [0.36538467],\n",
       "          [0.3288462 ],\n",
       "          [0.3288462 ]],\n",
       "\n",
       "         [[1.4250002 ],\n",
       "          [1.5346155 ],\n",
       "          [1.2788463 ],\n",
       "          ...,\n",
       "          [0.36538467],\n",
       "          [0.3288462 ],\n",
       "          [0.3288462 ]],\n",
       "\n",
       "         [[1.4250002 ],\n",
       "          [1.4250002 ],\n",
       "          [1.3884617 ],\n",
       "          ...,\n",
       "          [0.25576925],\n",
       "          [0.29230773],\n",
       "          [0.29230773]],\n",
       "\n",
       "         ...,\n",
       "\n",
       "         [[1.0596155 ],\n",
       "          [1.023077  ],\n",
       "          [1.023077  ],\n",
       "          ...,\n",
       "          [0.07307693],\n",
       "          [0.03653847],\n",
       "          [0.03653847]],\n",
       "\n",
       "         [[1.0596155 ],\n",
       "          [1.023077  ],\n",
       "          [1.023077  ],\n",
       "          ...,\n",
       "          [0.03653847],\n",
       "          [0.03653847],\n",
       "          [0.03653847]],\n",
       "\n",
       "         [[1.0596155 ],\n",
       "          [1.023077  ],\n",
       "          [1.023077  ],\n",
       "          ...,\n",
       "          [0.        ],\n",
       "          [0.        ],\n",
       "          [0.        ]]]],\n",
       "\n",
       "\n",
       "\n",
       "       [[[[1.5360624 ],\n",
       "          [1.4985974 ],\n",
       "          [1.6484572 ],\n",
       "          ...,\n",
       "          [0.1123948 ],\n",
       "          [0.37464935],\n",
       "          [0.37464935]],\n",
       "\n",
       "         [[1.5735272 ],\n",
       "          [1.4985974 ],\n",
       "          [1.6484572 ],\n",
       "          ...,\n",
       "          [0.14985974],\n",
       "          [0.4495792 ],\n",
       "          [0.4121143 ]],\n",
       "\n",
       "         [[1.3862026 ],\n",
       "          [1.3862026 ],\n",
       "          [1.4236676 ],\n",
       "          ...,\n",
       "          [0.2247896 ],\n",
       "          [0.29971948],\n",
       "          [0.29971948]],\n",
       "\n",
       "         ...,\n",
       "\n",
       "         [[1.0864831 ],\n",
       "          [1.0490181 ],\n",
       "          [1.0490181 ],\n",
       "          ...,\n",
       "          [0.14985974],\n",
       "          [0.1123948 ],\n",
       "          [0.1123948 ]],\n",
       "\n",
       "         [[1.0490181 ],\n",
       "          [1.0490181 ],\n",
       "          [1.0490181 ],\n",
       "          ...,\n",
       "          [0.1123948 ],\n",
       "          [0.1123948 ],\n",
       "          [0.07492987]],\n",
       "\n",
       "         [[1.0490181 ],\n",
       "          [1.0490181 ],\n",
       "          [1.0490181 ],\n",
       "          ...,\n",
       "          [0.07492987],\n",
       "          [0.07492987],\n",
       "          [0.07492987]]],\n",
       "\n",
       "\n",
       "        [[[1.4611324 ],\n",
       "          [1.4611324 ],\n",
       "          [1.5735272 ],\n",
       "          ...,\n",
       "          [0.18732467],\n",
       "          [0.37464935],\n",
       "          [0.37464935]],\n",
       "\n",
       "         [[1.4611324 ],\n",
       "          [1.4611324 ],\n",
       "          [1.5735272 ],\n",
       "          ...,\n",
       "          [0.18732467],\n",
       "          [0.4121143 ],\n",
       "          [0.4495792 ]],\n",
       "\n",
       "         [[1.4985974 ],\n",
       "          [1.4985974 ],\n",
       "          [1.4236676 ],\n",
       "          ...,\n",
       "          [0.2247896 ],\n",
       "          [0.26225454],\n",
       "          [0.26225454]],\n",
       "\n",
       "         ...,\n",
       "\n",
       "         [[1.0864831 ],\n",
       "          [1.0490181 ],\n",
       "          [1.0490181 ],\n",
       "          ...,\n",
       "          [0.18732467],\n",
       "          [0.1123948 ],\n",
       "          [0.1123948 ]],\n",
       "\n",
       "         [[1.0490181 ],\n",
       "          [1.0490181 ],\n",
       "          [1.0490181 ],\n",
       "          ...,\n",
       "          [0.1123948 ],\n",
       "          [0.1123948 ],\n",
       "          [0.1123948 ]],\n",
       "\n",
       "         [[1.0490181 ],\n",
       "          [1.0490181 ],\n",
       "          [1.0490181 ],\n",
       "          ...,\n",
       "          [0.1123948 ],\n",
       "          [0.07492987],\n",
       "          [0.07492987]]],\n",
       "\n",
       "\n",
       "        [[[1.4236676 ],\n",
       "          [1.3862026 ],\n",
       "          [1.5735272 ],\n",
       "          ...,\n",
       "          [0.26225454],\n",
       "          [0.3371844 ],\n",
       "          [0.37464935]],\n",
       "\n",
       "         [[1.3862026 ],\n",
       "          [1.3862026 ],\n",
       "          [1.5360624 ],\n",
       "          ...,\n",
       "          [0.18732467],\n",
       "          [0.29971948],\n",
       "          [0.37464935]],\n",
       "\n",
       "         [[1.4611324 ],\n",
       "          [1.4611324 ],\n",
       "          [1.3862026 ],\n",
       "          ...,\n",
       "          [0.2247896 ],\n",
       "          [0.26225454],\n",
       "          [0.26225454]],\n",
       "\n",
       "         ...,\n",
       "\n",
       "         [[1.0864831 ],\n",
       "          [1.0490181 ],\n",
       "          [1.0490181 ],\n",
       "          ...,\n",
       "          [0.14985974],\n",
       "          [0.14985974],\n",
       "          [0.14985974]],\n",
       "\n",
       "         [[1.0490181 ],\n",
       "          [1.0490181 ],\n",
       "          [1.0490181 ],\n",
       "          ...,\n",
       "          [0.1123948 ],\n",
       "          [0.1123948 ],\n",
       "          [0.1123948 ]],\n",
       "\n",
       "         [[1.0490181 ],\n",
       "          [1.0490181 ],\n",
       "          [1.0490181 ],\n",
       "          ...,\n",
       "          [0.1123948 ],\n",
       "          [0.07492987],\n",
       "          [0.07492987]]],\n",
       "\n",
       "\n",
       "        ...,\n",
       "\n",
       "\n",
       "        [[[1.6109922 ],\n",
       "          [1.6109922 ],\n",
       "          [1.3487376 ],\n",
       "          ...,\n",
       "          [0.29971948],\n",
       "          [0.3371844 ],\n",
       "          [0.3371844 ]],\n",
       "\n",
       "         [[1.6109922 ],\n",
       "          [1.5735272 ],\n",
       "          [1.2738078 ],\n",
       "          ...,\n",
       "          [0.29971948],\n",
       "          [0.3371844 ],\n",
       "          [0.3371844 ]],\n",
       "\n",
       "         [[1.4236676 ],\n",
       "          [1.4236676 ],\n",
       "          [1.4611324 ],\n",
       "          ...,\n",
       "          [0.37464935],\n",
       "          [0.37464935],\n",
       "          [0.37464935]],\n",
       "\n",
       "         ...,\n",
       "\n",
       "         [[1.0115532 ],\n",
       "          [1.0115532 ],\n",
       "          [1.0115532 ],\n",
       "          ...,\n",
       "          [0.07492987],\n",
       "          [0.07492987],\n",
       "          [0.07492987]],\n",
       "\n",
       "         [[1.0115532 ],\n",
       "          [1.0115532 ],\n",
       "          [1.0115532 ],\n",
       "          ...,\n",
       "          [0.07492987],\n",
       "          [0.07492987],\n",
       "          [0.07492987]],\n",
       "\n",
       "         [[1.0115532 ],\n",
       "          [1.0115532 ],\n",
       "          [0.9740883 ],\n",
       "          ...,\n",
       "          [0.07492987],\n",
       "          [0.07492987],\n",
       "          [0.03746494]]],\n",
       "\n",
       "\n",
       "        [[[1.5360624 ],\n",
       "          [1.5360624 ],\n",
       "          [1.4611324 ],\n",
       "          ...,\n",
       "          [0.3371844 ],\n",
       "          [0.3371844 ],\n",
       "          [0.3371844 ]],\n",
       "\n",
       "         [[1.4985974 ],\n",
       "          [1.5360624 ],\n",
       "          [1.3862026 ],\n",
       "          ...,\n",
       "          [0.3371844 ],\n",
       "          [0.3371844 ],\n",
       "          [0.3371844 ]],\n",
       "\n",
       "         [[1.4611324 ],\n",
       "          [1.4611324 ],\n",
       "          [1.4236676 ],\n",
       "          ...,\n",
       "          [0.37464935],\n",
       "          [0.37464935],\n",
       "          [0.37464935]],\n",
       "\n",
       "         ...,\n",
       "\n",
       "         [[1.0864831 ],\n",
       "          [1.0490181 ],\n",
       "          [1.0490181 ],\n",
       "          ...,\n",
       "          [0.14985974],\n",
       "          [0.1123948 ],\n",
       "          [0.07492987]],\n",
       "\n",
       "         [[1.0115532 ],\n",
       "          [1.0115532 ],\n",
       "          [1.0490181 ],\n",
       "          ...,\n",
       "          [0.1123948 ],\n",
       "          [0.1123948 ],\n",
       "          [0.07492987]],\n",
       "\n",
       "         [[1.0115532 ],\n",
       "          [1.0115532 ],\n",
       "          [1.0490181 ],\n",
       "          ...,\n",
       "          [0.1123948 ],\n",
       "          [0.1123948 ],\n",
       "          [0.03746494]]],\n",
       "\n",
       "\n",
       "        [[[1.5360624 ],\n",
       "          [1.5360624 ],\n",
       "          [1.3862026 ],\n",
       "          ...,\n",
       "          [0.29971948],\n",
       "          [0.3371844 ],\n",
       "          [0.3371844 ]],\n",
       "\n",
       "         [[1.4611324 ],\n",
       "          [1.4236676 ],\n",
       "          [1.3862026 ],\n",
       "          ...,\n",
       "          [0.29971948],\n",
       "          [0.3371844 ],\n",
       "          [0.3371844 ]],\n",
       "\n",
       "         [[1.4611324 ],\n",
       "          [1.4611324 ],\n",
       "          [1.4611324 ],\n",
       "          ...,\n",
       "          [0.37464935],\n",
       "          [0.3371844 ],\n",
       "          [0.3371844 ]],\n",
       "\n",
       "         ...,\n",
       "\n",
       "         [[1.0490181 ],\n",
       "          [1.0115532 ],\n",
       "          [1.0115532 ],\n",
       "          ...,\n",
       "          [0.18732467],\n",
       "          [0.14985974],\n",
       "          [0.1123948 ]],\n",
       "\n",
       "         [[1.0115532 ],\n",
       "          [0.9740883 ],\n",
       "          [1.0115532 ],\n",
       "          ...,\n",
       "          [0.14985974],\n",
       "          [0.1123948 ],\n",
       "          [0.1123948 ]],\n",
       "\n",
       "         [[1.0115532 ],\n",
       "          [0.9740883 ],\n",
       "          [1.0115532 ],\n",
       "          ...,\n",
       "          [0.1123948 ],\n",
       "          [0.1123948 ],\n",
       "          [0.07492987]]]]], dtype=float32)"
      ]
     },
     "execution_count": 24,
     "metadata": {},
     "output_type": "execute_result"
    }
   ],
   "source": [
    "val = sample.next(); val[0]"
   ]
  },
  {
   "cell_type": "code",
   "execution_count": 25,
   "id": "a7471ed9",
   "metadata": {},
   "outputs": [],
   "source": [
    "#imageio.mimsave('./animation.gif', val[0], 'GIF', duration= 100)\n",
    "#imageio.mimsave('./animation.gif', val[0][1],'GIF', duration=100) ## not running , "
   ]
  },
  {
   "cell_type": "code",
   "execution_count": 26,
   "id": "3b5d8e15",
   "metadata": {},
   "outputs": [
    {
     "data": {
      "text/plain": [
       "<matplotlib.image.AxesImage at 0x1ae7c2b1a60>"
      ]
     },
     "execution_count": 26,
     "metadata": {},
     "output_type": "execute_result"
    },
    {
     "data": {
      "image/png": "[encoded data removed]",
      "text/plain": [
       "<Figure size 640x480 with 1 Axes>"
      ]
     },
     "metadata": {},
     "output_type": "display_data"
    }
   ],
   "source": [
    "plt.imshow(val[0][0][0]) # 0:videos, 0: 1st video out of the batch,  0: return the first frame in the video "
   ]
  },
  {
   "cell_type": "code",
   "execution_count": 27,
   "id": "1f2b21e5",
   "metadata": {},
   "outputs": [
    {
     "data": {
      "text/plain": [
       "<tf.Tensor: shape=(), dtype=string, numpy=b'place white with k six please'>"
      ]
     },
     "execution_count": 27,
     "metadata": {},
     "output_type": "execute_result"
    }
   ],
   "source": [
    "tf.strings.reduce_join([num_to_char(word) for word in val[1][0]])"
   ]
  },
  {
   "cell_type": "markdown",
   "id": "5a093c30",
   "metadata": {},
   "source": [
    "## Neural Network"
   ]
  },
  {
   "cell_type": "code",
   "execution_count": 28,
   "id": "b9c9e9c6",
   "metadata": {},
   "outputs": [],
   "source": [
    "from tensorflow.keras.models import Sequential \n",
    "from tensorflow.keras.layers import Conv3D, LSTM, Dense, Dropout, Bidirectional, MaxPool3D, Activation, Reshape, SpatialDropout3D, BatchNormalization, TimeDistributed, Flatten\n",
    "from tensorflow.keras.optimizers import Adam\n",
    "from tensorflow.keras.callbacks import ModelCheckpoint, LearningRateScheduler"
   ]
  },
  {
   "cell_type": "code",
   "execution_count": 29,
   "id": "9cb38d06",
   "metadata": {},
   "outputs": [
    {
     "data": {
      "text/plain": [
       "(75, 46, 140, 1)"
      ]
     },
     "execution_count": 29,
     "metadata": {},
     "output_type": "execute_result"
    }
   ],
   "source": [
    "data.as_numpy_iterator().next()[0][0].shape"
   ]
  },
  {
   "cell_type": "code",
   "execution_count": 30,
   "id": "dad3d0f8",
   "metadata": {},
   "outputs": [],
   "source": [
    "model = Sequential()\n",
    "model.add(Conv3D(128, 3, input_shape=(75,46,140,1), padding='same'))\n",
    "model.add(Activation('relu'))\n",
    "model.add(MaxPool3D((1,2,2)))\n",
    "\n",
    "model.add(Conv3D(256, 3, padding='same'))\n",
    "model.add(Activation('relu'))\n",
    "model.add(MaxPool3D((1,2,2)))\n",
    "\n",
    "model.add(Conv3D(75, 3, padding='same'))\n",
    "model.add(Activation('relu'))\n",
    "model.add(MaxPool3D((1,2,2)))\n",
    "\n",
    "model.add(TimeDistributed(Flatten()))\n",
    "\n",
    "model.add(Bidirectional(LSTM(128, kernel_initializer='Orthogonal', return_sequences=True)))\n",
    "model.add(Dropout(.5))\n",
    "\n",
    "model.add(Bidirectional(LSTM(128, kernel_initializer='Orthogonal', return_sequences=True)))\n",
    "model.add(Dropout(.5))\n",
    "\n",
    "model.add(Dense(char_to_num.vocabulary_size()+1, kernel_initializer='he_normal', activation='softmax'))"
   ]
  },
  {
   "cell_type": "code",
   "execution_count": 31,
   "id": "409ef6e5",
   "metadata": {
    "scrolled": false
   },
   "outputs": [
    {
     "name": "stdout",
     "output_type": "stream",
     "text": [
      "Model: \"sequential\"\n",
      "_________________________________________________________________\n",
      " Layer (type)                Output Shape              Param #   \n",
      "=================================================================\n",
      " conv3d (Conv3D)             (None, 75, 46, 140, 128)  3584      \n",
      "                                                                 \n",
      " activation (Activation)     (None, 75, 46, 140, 128)  0         \n",
      "                                                                 \n",
      " max_pooling3d (MaxPooling3D  (None, 75, 23, 70, 128)  0         \n",
      " )                                                               \n",
      "                                                                 \n",
      " conv3d_1 (Conv3D)           (None, 75, 23, 70, 256)   884992    \n",
      "                                                                 \n",
      " activation_1 (Activation)   (None, 75, 23, 70, 256)   0         \n",
      "                                                                 \n",
      " max_pooling3d_1 (MaxPooling  (None, 75, 11, 35, 256)  0         \n",
      " 3D)                                                             \n",
      "                                                                 \n",
      " conv3d_2 (Conv3D)           (None, 75, 11, 35, 75)    518475    \n",
      "                                                                 \n",
      " activation_2 (Activation)   (None, 75, 11, 35, 75)    0         \n",
      "                                                                 \n",
      " max_pooling3d_2 (MaxPooling  (None, 75, 5, 17, 75)    0         \n",
      " 3D)                                                             \n",
      "                                                                 \n",
      " time_distributed (TimeDistr  (None, 75, 6375)         0         \n",
      " ibuted)                                                         \n",
      "                                                                 \n",
      " bidirectional (Bidirectiona  (None, 75, 256)          6660096   \n",
      " l)                                                              \n",
      "                                                                 \n",
      " dropout (Dropout)           (None, 75, 256)           0         \n",
      "                                                                 \n",
      " bidirectional_1 (Bidirectio  (None, 75, 256)          394240    \n",
      " nal)                                                            \n",
      "                                                                 \n",
      " dropout_1 (Dropout)         (None, 75, 256)           0         \n",
      "                                                                 \n",
      " dense (Dense)               (None, 75, 41)            10537     \n",
      "                                                                 \n",
      "=================================================================\n",
      "Total params: 8,471,924\n",
      "Trainable params: 8,471,924\n",
      "Non-trainable params: 0\n",
      "_________________________________________________________________\n"
     ]
    }
   ],
   "source": [
    "model.summary()"
   ]
  },
  {
   "cell_type": "code",
   "execution_count": 32,
   "id": "3d97d19a",
   "metadata": {},
   "outputs": [
    {
     "name": "stdout",
     "output_type": "stream",
     "text": [
      "1/1 [==============================] - 6s 6s/step\n"
     ]
    }
   ],
   "source": [
    "yhat = model.predict(val[0])"
   ]
  },
  {
   "cell_type": "code",
   "execution_count": 33,
   "id": "b54fc684",
   "metadata": {},
   "outputs": [
    {
     "data": {
      "text/plain": [
       "<tf.Tensor: shape=(), dtype=string, numpy=b'aaaaaaaaaaaaaaaaaaaaaaaaaaaaaaaaaaaaaaaaaaaaaaaaaaaaaaaaaaaaaaaaaaaaaaaaax'>"
      ]
     },
     "execution_count": 33,
     "metadata": {},
     "output_type": "execute_result"
    }
   ],
   "source": [
    "tf.strings.reduce_join([num_to_char(x) for x in tf.argmax(yhat[0],axis=1)])"
   ]
  },
  {
   "cell_type": "code",
   "execution_count": 34,
   "id": "c2ffc016",
   "metadata": {},
   "outputs": [
    {
     "data": {
      "text/plain": [
       "<tf.Tensor: shape=(), dtype=string, numpy=b'aaaaaaaaaaaaaaaaaaaaaaaaaaaaaaaaaaaaaaaaaaaaaaaaaaaaaaaaaaaaaaaaaaaaaaaaax'>"
      ]
     },
     "execution_count": 34,
     "metadata": {},
     "output_type": "execute_result"
    }
   ],
   "source": [
    "tf.strings.reduce_join([num_to_char(tf.argmax(x)) for x in yhat[0]])"
   ]
  },
  {
   "cell_type": "code",
   "execution_count": 35,
   "id": "3b52eee5",
   "metadata": {},
   "outputs": [
    {
     "data": {
      "text/plain": [
       "(None, 75, 46, 140, 1)"
      ]
     },
     "execution_count": 35,
     "metadata": {},
     "output_type": "execute_result"
    }
   ],
   "source": [
    "model.input_shape"
   ]
  },
  {
   "cell_type": "code",
   "execution_count": 36,
   "id": "a2d8fa65",
   "metadata": {},
   "outputs": [
    {
     "data": {
      "text/plain": [
       "(None, 75, 41)"
      ]
     },
     "execution_count": 36,
     "metadata": {},
     "output_type": "execute_result"
    }
   ],
   "source": [
    "model.output_shape"
   ]
  },
  {
   "cell_type": "markdown",
   "id": "21d47cde",
   "metadata": {},
   "source": [
    "## Training the dataset"
   ]
  },
  {
   "cell_type": "code",
   "execution_count": 37,
   "id": "1531e227",
   "metadata": {},
   "outputs": [],
   "source": [
    "def scheduler(epoch, lr):\n",
    "    if epoch < 30:\n",
    "        return lr\n",
    "    else:\n",
    "        return lr * tf.math.exp(-0.1)"
   ]
  },
  {
   "cell_type": "markdown",
   "id": "2a50b603",
   "metadata": {},
   "source": [
    "#### defining CTC loss function"
   ]
  },
  {
   "cell_type": "code",
   "execution_count": 38,
   "id": "f73230af",
   "metadata": {},
   "outputs": [],
   "source": [
    "def CTCLoss(y_true, y_pred):\n",
    "    batch_len = tf.cast(tf.shape(y_true)[0], dtype=\"int64\")\n",
    "    input_length = tf.cast(tf.shape(y_pred)[1], dtype=\"int64\")\n",
    "    label_length = tf.cast(tf.shape(y_true)[1], dtype=\"int64\")\n",
    "\n",
    "    input_length = input_length * tf.ones(shape=(batch_len, 1), dtype=\"int64\")\n",
    "    label_length = label_length * tf.ones(shape=(batch_len, 1), dtype=\"int64\")\n",
    "\n",
    "    loss = tf.keras.backend.ctc_batch_cost(y_true, y_pred, input_length, label_length)\n",
    "    return loss"
   ]
  },
  {
   "cell_type": "code",
   "execution_count": 39,
   "id": "ed9e8e2e",
   "metadata": {},
   "outputs": [],
   "source": [
    "class ProduceExample(tf.keras.callbacks.Callback): \n",
    "    def __init__(self, dataset) -> None: \n",
    "        self.dataset = dataset.as_numpy_iterator()\n",
    "    \n",
    "    def on_epoch_end(self, epoch, logs=None) -> None:\n",
    "        data = self.dataset.next()\n",
    "        yhat = self.model.predict(data[0])\n",
    "        decoded = tf.keras.backend.ctc_decode(yhat, [75,75], greedy=False)[0][0].numpy()\n",
    "        for x in range(len(yhat)):           \n",
    "            print('Original:', tf.strings.reduce_join(num_to_char(data[1][x])).numpy().decode('utf-8'))\n",
    "            print('Prediction:', tf.strings.reduce_join(num_to_char(decoded[x])).numpy().decode('utf-8'))\n",
    "            print('~'*100)"
   ]
  },
  {
   "cell_type": "code",
   "execution_count": 40,
   "id": "4eb181e0",
   "metadata": {},
   "outputs": [],
   "source": [
    "model.compile(optimizer=Adam(learning_rate=0.0001), loss=CTCLoss)"
   ]
  },
  {
   "cell_type": "code",
   "execution_count": 41,
   "id": "a38899ca",
   "metadata": {},
   "outputs": [],
   "source": [
    "checkpoint_callback = ModelCheckpoint(os.path.join('models','checkpoint'), monitor='loss', save_weights_only=True) "
   ]
  },
  {
   "cell_type": "code",
   "execution_count": 42,
   "id": "0f39a670",
   "metadata": {},
   "outputs": [],
   "source": [
    "schedule_callback = LearningRateScheduler(scheduler)"
   ]
  },
  {
   "cell_type": "code",
   "execution_count": 43,
   "id": "5f3c4aab",
   "metadata": {},
   "outputs": [],
   "source": [
    "example_callback = ProduceExample(test)"
   ]
  },
  {
   "cell_type": "code",
   "execution_count": 44,
   "id": "0622e03d",
   "metadata": {},
   "outputs": [],
   "source": [
    "#  model.fit(train, validation_data=test, epochs=100, callbacks=[checkpoint_callback, schedule_callback, example_callback])"
   ]
  },
  {
   "cell_type": "markdown",
   "id": "4c95acf7",
   "metadata": {},
   "source": [
    "## Predictions checking"
   ]
  },
  {
   "cell_type": "code",
   "execution_count": 45,
   "id": "210be1cb",
   "metadata": {},
   "outputs": [
    {
     "data": {
      "text/plain": [
       "<tensorflow.python.checkpoint.checkpoint.CheckpointLoadStatus at 0x1ae008c9850>"
      ]
     },
     "execution_count": 45,
     "metadata": {},
     "output_type": "execute_result"
    }
   ],
   "source": [
    "#model.load_weights('models/checkpoint')\n",
    "from tensorflow.keras.optimizers import legacy\n",
    "\n",
    "# define your optimizer using legacy optimizer class\n",
    "optimizer = legacy.Adam()\n",
    "\n",
    "# compile your model with the legacy optimizer\n",
    "model.compile(optimizer=optimizer, loss='categorical_crossentropy')\n",
    "\n",
    "# load your weights using the legacy optimizer\n",
    "model.load_weights('models/checkpoint')"
   ]
  },
  {
   "cell_type": "code",
   "execution_count": 46,
   "id": "bb0fd194",
   "metadata": {},
   "outputs": [],
   "source": [
    "test_data = test.as_numpy_iterator()"
   ]
  },
  {
   "cell_type": "code",
   "execution_count": 47,
   "id": "dc98a87b",
   "metadata": {},
   "outputs": [
    {
     "data": {
      "text/plain": [
       "(array([[[[[1.5692966 ],\n",
       "           [1.5692966 ],\n",
       "           [1.5300642 ],\n",
       "           ...,\n",
       "           [0.03923241],\n",
       "           [0.03923241],\n",
       "           [0.03923241]],\n",
       " \n",
       "          [[1.5692966 ],\n",
       "           [1.5692966 ],\n",
       "           [1.5300642 ],\n",
       "           ...,\n",
       "           [0.03923241],\n",
       "           [0.03923241],\n",
       "           [0.03923241]],\n",
       " \n",
       "          [[1.412367  ],\n",
       "           [1.412367  ],\n",
       "           [1.412367  ],\n",
       "           ...,\n",
       "           [0.07846483],\n",
       "           [0.07846483],\n",
       "           [0.07846483]],\n",
       " \n",
       "          ...,\n",
       " \n",
       "          [[0.9808104 ],\n",
       "           [0.9808104 ],\n",
       "           [0.9808104 ],\n",
       "           ...,\n",
       "           [9.847337  ],\n",
       "           [9.847337  ],\n",
       "           [9.847337  ]],\n",
       " \n",
       "          [[0.9808104 ],\n",
       "           [0.9808104 ],\n",
       "           [0.9808104 ],\n",
       "           ...,\n",
       "           [9.847337  ],\n",
       "           [9.847337  ],\n",
       "           [9.847337  ]],\n",
       " \n",
       "          [[0.9808104 ],\n",
       "           [0.9808104 ],\n",
       "           [0.9808104 ],\n",
       "           ...,\n",
       "           [9.847337  ],\n",
       "           [9.847337  ],\n",
       "           [9.847337  ]]],\n",
       " \n",
       " \n",
       "         [[[1.5300642 ],\n",
       "           [1.5300642 ],\n",
       "           [1.4908319 ],\n",
       "           ...,\n",
       "           [0.11769725],\n",
       "           [0.        ],\n",
       "           [0.        ]],\n",
       " \n",
       "          [[1.5300642 ],\n",
       "           [1.5300642 ],\n",
       "           [1.4908319 ],\n",
       "           ...,\n",
       "           [0.11769725],\n",
       "           [0.        ],\n",
       "           [0.        ]],\n",
       " \n",
       "          [[1.4515994 ],\n",
       "           [1.4515994 ],\n",
       "           [1.4515994 ],\n",
       "           ...,\n",
       "           [0.07846483],\n",
       "           [0.07846483],\n",
       "           [0.07846483]],\n",
       " \n",
       "          ...,\n",
       " \n",
       "          [[1.0592753 ],\n",
       "           [1.0592753 ],\n",
       "           [1.0200428 ],\n",
       "           ...,\n",
       "           [9.886569  ],\n",
       "           [9.847337  ],\n",
       "           [9.847337  ]],\n",
       " \n",
       "          [[1.0592753 ],\n",
       "           [1.0200428 ],\n",
       "           [1.0200428 ],\n",
       "           ...,\n",
       "           [9.886569  ],\n",
       "           [9.847337  ],\n",
       "           [9.847337  ]],\n",
       " \n",
       "          [[1.0200428 ],\n",
       "           [1.0200428 ],\n",
       "           [1.0200428 ],\n",
       "           ...,\n",
       "           [9.886569  ],\n",
       "           [9.847337  ],\n",
       "           [9.847337  ]]],\n",
       " \n",
       " \n",
       "         [[[1.412367  ],\n",
       "           [1.412367  ],\n",
       "           [1.4515994 ],\n",
       "           ...,\n",
       "           [0.11769725],\n",
       "           [0.        ],\n",
       "           [0.        ]],\n",
       " \n",
       "          [[1.412367  ],\n",
       "           [1.412367  ],\n",
       "           [1.4515994 ],\n",
       "           ...,\n",
       "           [0.11769725],\n",
       "           [0.        ],\n",
       "           [0.        ]],\n",
       " \n",
       "          [[1.412367  ],\n",
       "           [1.412367  ],\n",
       "           [1.412367  ],\n",
       "           ...,\n",
       "           [0.07846483],\n",
       "           [0.07846483],\n",
       "           [0.07846483]],\n",
       " \n",
       "          ...,\n",
       " \n",
       "          [[1.0592753 ],\n",
       "           [1.0200428 ],\n",
       "           [1.0200428 ],\n",
       "           ...,\n",
       "           [9.847337  ],\n",
       "           [9.847337  ],\n",
       "           [9.808104  ]],\n",
       " \n",
       "          [[1.0592753 ],\n",
       "           [1.0592753 ],\n",
       "           [1.0200428 ],\n",
       "           ...,\n",
       "           [9.847337  ],\n",
       "           [9.847337  ],\n",
       "           [9.808104  ]],\n",
       " \n",
       "          [[1.0592753 ],\n",
       "           [1.0200428 ],\n",
       "           [1.0200428 ],\n",
       "           ...,\n",
       "           [9.847337  ],\n",
       "           [9.847337  ],\n",
       "           [9.808104  ]]],\n",
       " \n",
       " \n",
       "         ...,\n",
       " \n",
       " \n",
       "         [[[1.5300642 ],\n",
       "           [1.5300642 ],\n",
       "           [1.4908319 ],\n",
       "           ...,\n",
       "           [0.07846483],\n",
       "           [0.03923241],\n",
       "           [0.03923241]],\n",
       " \n",
       "          [[1.5300642 ],\n",
       "           [1.5300642 ],\n",
       "           [1.4908319 ],\n",
       "           ...,\n",
       "           [0.07846483],\n",
       "           [0.03923241],\n",
       "           [0.03923241]],\n",
       " \n",
       "          [[1.3731346 ],\n",
       "           [1.3731346 ],\n",
       "           [1.3731346 ],\n",
       "           ...,\n",
       "           [0.03923241],\n",
       "           [0.03923241],\n",
       "           [0.03923241]],\n",
       " \n",
       "          ...,\n",
       " \n",
       "          [[0.9808104 ],\n",
       "           [0.9808104 ],\n",
       "           [0.941578  ],\n",
       "           ...,\n",
       "           [9.729639  ],\n",
       "           [9.729639  ],\n",
       "           [9.729639  ]],\n",
       " \n",
       "          [[0.941578  ],\n",
       "           [0.941578  ],\n",
       "           [0.941578  ],\n",
       "           ...,\n",
       "           [9.729639  ],\n",
       "           [9.729639  ],\n",
       "           [9.690407  ]],\n",
       " \n",
       "          [[0.941578  ],\n",
       "           [0.941578  ],\n",
       "           [0.90234554],\n",
       "           ...,\n",
       "           [9.729639  ],\n",
       "           [9.690407  ],\n",
       "           [9.690407  ]]],\n",
       " \n",
       " \n",
       "         [[[1.4515994 ],\n",
       "           [1.4515994 ],\n",
       "           [1.3731346 ],\n",
       "           ...,\n",
       "           [0.11769725],\n",
       "           [0.07846483],\n",
       "           [0.07846483]],\n",
       " \n",
       "          [[1.4515994 ],\n",
       "           [1.4515994 ],\n",
       "           [1.3731346 ],\n",
       "           ...,\n",
       "           [0.11769725],\n",
       "           [0.07846483],\n",
       "           [0.07846483]],\n",
       " \n",
       "          [[1.3731346 ],\n",
       "           [1.3731346 ],\n",
       "           [1.3731346 ],\n",
       "           ...,\n",
       "           [0.03923241],\n",
       "           [0.03923241],\n",
       "           [0.03923241]],\n",
       " \n",
       "          ...,\n",
       " \n",
       "          [[1.0200428 ],\n",
       "           [1.0200428 ],\n",
       "           [1.0200428 ],\n",
       "           ...,\n",
       "           [9.768871  ],\n",
       "           [9.768871  ],\n",
       "           [9.768871  ]],\n",
       " \n",
       "          [[1.0200428 ],\n",
       "           [1.0200428 ],\n",
       "           [0.9808104 ],\n",
       "           ...,\n",
       "           [9.768871  ],\n",
       "           [9.768871  ],\n",
       "           [9.729639  ]],\n",
       " \n",
       "          [[0.9808104 ],\n",
       "           [0.9808104 ],\n",
       "           [0.9808104 ],\n",
       "           ...,\n",
       "           [9.768871  ],\n",
       "           [9.729639  ],\n",
       "           [9.729639  ]]],\n",
       " \n",
       " \n",
       "         [[[1.4515994 ],\n",
       "           [1.4515994 ],\n",
       "           [1.3731346 ],\n",
       "           ...,\n",
       "           [0.03923241],\n",
       "           [0.07846483],\n",
       "           [0.07846483]],\n",
       " \n",
       "          [[1.4515994 ],\n",
       "           [1.4515994 ],\n",
       "           [1.3731346 ],\n",
       "           ...,\n",
       "           [0.03923241],\n",
       "           [0.07846483],\n",
       "           [0.07846483]],\n",
       " \n",
       "          [[1.412367  ],\n",
       "           [1.412367  ],\n",
       "           [1.412367  ],\n",
       "           ...,\n",
       "           [0.07846483],\n",
       "           [0.07846483],\n",
       "           [0.07846483]],\n",
       " \n",
       "          ...,\n",
       " \n",
       "          [[1.0200428 ],\n",
       "           [1.0200428 ],\n",
       "           [1.0200428 ],\n",
       "           ...,\n",
       "           [9.768871  ],\n",
       "           [9.768871  ],\n",
       "           [9.768871  ]],\n",
       " \n",
       "          [[0.9808104 ],\n",
       "           [0.9808104 ],\n",
       "           [0.941578  ],\n",
       "           ...,\n",
       "           [9.768871  ],\n",
       "           [9.768871  ],\n",
       "           [9.729639  ]],\n",
       " \n",
       "          [[0.941578  ],\n",
       "           [0.941578  ],\n",
       "           [0.941578  ],\n",
       "           ...,\n",
       "           [9.768871  ],\n",
       "           [9.729639  ],\n",
       "           [9.729639  ]]]],\n",
       " \n",
       " \n",
       " \n",
       "        [[[[1.4735541 ],\n",
       "           [1.4735541 ],\n",
       "           [1.4735541 ],\n",
       "           ...,\n",
       "           [9.306658  ],\n",
       "           [0.03877774],\n",
       "           [0.11633322]],\n",
       " \n",
       "          [[1.4735541 ],\n",
       "           [1.4735541 ],\n",
       "           [1.4735541 ],\n",
       "           ...,\n",
       "           [9.500546  ],\n",
       "           [0.03877774],\n",
       "           [0.07755548]],\n",
       " \n",
       "          [[1.4347764 ],\n",
       "           [1.4347764 ],\n",
       "           [1.4347764 ],\n",
       "           ...,\n",
       "           [9.771991  ],\n",
       "           [0.23266645],\n",
       "           [0.23266645]],\n",
       " \n",
       "          ...,\n",
       " \n",
       "          [[1.0082213 ],\n",
       "           [1.0082213 ],\n",
       "           [1.0082213 ],\n",
       "           ...,\n",
       "           [0.        ],\n",
       "           [0.03877774],\n",
       "           [0.03877774]],\n",
       " \n",
       "          [[0.9694435 ],\n",
       "           [0.9694435 ],\n",
       "           [0.9694435 ],\n",
       "           ...,\n",
       "           [0.03877774],\n",
       "           [0.03877774],\n",
       "           [0.03877774]],\n",
       " \n",
       "          [[0.9694435 ],\n",
       "           [0.9694435 ],\n",
       "           [0.9694435 ],\n",
       "           ...,\n",
       "           [0.03877774],\n",
       "           [0.03877774],\n",
       "           [0.        ]]],\n",
       " \n",
       " \n",
       "         [[[1.3959986 ],\n",
       "           [1.3959986 ],\n",
       "           [1.4347764 ],\n",
       "           ...,\n",
       "           [9.2678795 ],\n",
       "           [0.        ],\n",
       "           [0.07755548]],\n",
       " \n",
       "          [[1.3959986 ],\n",
       "           [1.3959986 ],\n",
       "           [1.4347764 ],\n",
       "           ...,\n",
       "           [9.345435  ],\n",
       "           [0.03877774],\n",
       "           [0.07755548]],\n",
       " \n",
       "          [[1.3959986 ],\n",
       "           [1.3959986 ],\n",
       "           [1.3959986 ],\n",
       "           ...,\n",
       "           [9.810768  ],\n",
       "           [0.1938887 ],\n",
       "           [0.1938887 ]],\n",
       " \n",
       "          ...,\n",
       " \n",
       "          [[0.9694435 ],\n",
       "           [0.9694435 ],\n",
       "           [0.9306658 ],\n",
       "           ...,\n",
       "           [0.07755548],\n",
       "           [0.07755548],\n",
       "           [0.07755548]],\n",
       " \n",
       "          [[0.9306658 ],\n",
       "           [0.9306658 ],\n",
       "           [0.9306658 ],\n",
       "           ...,\n",
       "           [0.03877774],\n",
       "           [0.03877774],\n",
       "           [0.        ]],\n",
       " \n",
       "          [[0.9306658 ],\n",
       "           [0.9306658 ],\n",
       "           [0.9306658 ],\n",
       "           ...,\n",
       "           [0.03877774],\n",
       "           [0.        ],\n",
       "           [0.        ]]],\n",
       " \n",
       " \n",
       "         [[[1.5123318 ],\n",
       "           [1.5123318 ],\n",
       "           [1.5123318 ],\n",
       "           ...,\n",
       "           [9.2678795 ],\n",
       "           [0.03877774],\n",
       "           [0.07755548]],\n",
       " \n",
       "          [[1.5123318 ],\n",
       "           [1.5123318 ],\n",
       "           [1.5123318 ],\n",
       "           ...,\n",
       "           [9.306658  ],\n",
       "           [0.        ],\n",
       "           [0.03877774]],\n",
       " \n",
       "          [[1.4347764 ],\n",
       "           [1.4347764 ],\n",
       "           [1.3572209 ],\n",
       "           ...,\n",
       "           [9.849546  ],\n",
       "           [0.23266645],\n",
       "           [0.23266645]],\n",
       " \n",
       "          ...,\n",
       " \n",
       "          [[0.9694435 ],\n",
       "           [0.9694435 ],\n",
       "           [0.9306658 ],\n",
       "           ...,\n",
       "           [0.07755548],\n",
       "           [0.03877774],\n",
       "           [0.03877774]],\n",
       " \n",
       "          [[0.9306658 ],\n",
       "           [0.9306658 ],\n",
       "           [0.9306658 ],\n",
       "           ...,\n",
       "           [0.03877774],\n",
       "           [0.        ],\n",
       "           [9.888324  ]],\n",
       " \n",
       "          [[0.9306658 ],\n",
       "           [0.9306658 ],\n",
       "           [0.9306658 ],\n",
       "           ...,\n",
       "           [0.03877774],\n",
       "           [9.888324  ],\n",
       "           [9.888324  ]]],\n",
       " \n",
       " \n",
       "         ...,\n",
       " \n",
       " \n",
       "         [[[1.4735541 ],\n",
       "           [1.4735541 ],\n",
       "           [1.4347764 ],\n",
       "           ...,\n",
       "           [9.539324  ],\n",
       "           [0.        ],\n",
       "           [0.03877774]],\n",
       " \n",
       "          [[1.3959986 ],\n",
       "           [1.3959986 ],\n",
       "           [1.3572209 ],\n",
       "           ...,\n",
       "           [9.578102  ],\n",
       "           [9.888324  ],\n",
       "           [0.03877774]],\n",
       " \n",
       "          [[1.3959986 ],\n",
       "           [1.3959986 ],\n",
       "           [1.3959986 ],\n",
       "           ...,\n",
       "           [0.03877774],\n",
       "           [0.1938887 ],\n",
       "           [0.1938887 ]],\n",
       " \n",
       "          ...,\n",
       " \n",
       "          [[0.9694435 ],\n",
       "           [0.9694435 ],\n",
       "           [0.9694435 ],\n",
       "           ...,\n",
       "           [0.        ],\n",
       "           [9.888324  ],\n",
       "           [9.888324  ]],\n",
       " \n",
       "          [[0.9694435 ],\n",
       "           [0.9694435 ],\n",
       "           [0.9694435 ],\n",
       "           ...,\n",
       "           [0.        ],\n",
       "           [0.        ],\n",
       "           [9.888324  ]],\n",
       " \n",
       "          [[0.9694435 ],\n",
       "           [0.9694435 ],\n",
       "           [0.9306658 ],\n",
       "           ...,\n",
       "           [0.        ],\n",
       "           [9.888324  ],\n",
       "           [9.888324  ]]],\n",
       " \n",
       " \n",
       "         [[[1.4347764 ],\n",
       "           [1.4347764 ],\n",
       "           [1.4347764 ],\n",
       "           ...,\n",
       "           [9.616879  ],\n",
       "           [0.        ],\n",
       "           [0.11633322]],\n",
       " \n",
       "          [[1.3572209 ],\n",
       "           [1.3572209 ],\n",
       "           [1.3572209 ],\n",
       "           ...,\n",
       "           [9.539324  ],\n",
       "           [0.        ],\n",
       "           [0.03877774]],\n",
       " \n",
       "          [[1.4735541 ],\n",
       "           [1.4735541 ],\n",
       "           [1.4347764 ],\n",
       "           ...,\n",
       "           [0.03877774],\n",
       "           [0.23266645],\n",
       "           [0.23266645]],\n",
       " \n",
       "          ...,\n",
       " \n",
       "          [[0.9694435 ],\n",
       "           [0.9694435 ],\n",
       "           [0.9694435 ],\n",
       "           ...,\n",
       "           [0.        ],\n",
       "           [0.        ],\n",
       "           [0.        ]],\n",
       " \n",
       "          [[0.9694435 ],\n",
       "           [0.9694435 ],\n",
       "           [0.9694435 ],\n",
       "           ...,\n",
       "           [0.03877774],\n",
       "           [0.03877774],\n",
       "           [0.        ]],\n",
       " \n",
       "          [[0.9694435 ],\n",
       "           [0.9694435 ],\n",
       "           [0.9306658 ],\n",
       "           ...,\n",
       "           [0.03877774],\n",
       "           [0.        ],\n",
       "           [0.        ]]],\n",
       " \n",
       " \n",
       "         [[[1.4735541 ],\n",
       "           [1.4735541 ],\n",
       "           [1.4735541 ],\n",
       "           ...,\n",
       "           [9.539324  ],\n",
       "           [0.03877774],\n",
       "           [0.1938887 ]],\n",
       " \n",
       "          [[1.3959986 ],\n",
       "           [1.3959986 ],\n",
       "           [1.3959986 ],\n",
       "           ...,\n",
       "           [9.539324  ],\n",
       "           [0.03877774],\n",
       "           [0.11633322]],\n",
       " \n",
       "          [[1.3572209 ],\n",
       "           [1.3572209 ],\n",
       "           [1.3572209 ],\n",
       "           ...,\n",
       "           [0.03877774],\n",
       "           [0.23266645],\n",
       "           [0.23266645]],\n",
       " \n",
       "          ...,\n",
       " \n",
       "          [[0.9694435 ],\n",
       "           [0.9694435 ],\n",
       "           [0.9694435 ],\n",
       "           ...,\n",
       "           [0.        ],\n",
       "           [0.        ],\n",
       "           [0.        ]],\n",
       " \n",
       "          [[0.9694435 ],\n",
       "           [0.9694435 ],\n",
       "           [0.9694435 ],\n",
       "           ...,\n",
       "           [0.03877774],\n",
       "           [0.        ],\n",
       "           [9.888324  ]],\n",
       " \n",
       "          [[0.9694435 ],\n",
       "           [0.9694435 ],\n",
       "           [0.9306658 ],\n",
       "           ...,\n",
       "           [0.03877774],\n",
       "           [9.888324  ],\n",
       "           [9.888324  ]]]]], dtype=float32),\n",
       " array([[ 2,  9, 14, 39, 23,  8,  9, 20,  5, 39, 23,  9, 20,  8, 39,  8,\n",
       "         39, 20,  8, 18,  5,  5, 39, 19, 15, 15, 14,  0,  0,  0,  0,  0,\n",
       "          0,  0,  0,  0,  0,  0,  0,  0],\n",
       "        [12,  1, 25, 39,  2, 12, 21,  5, 39,  1, 20, 39, 17, 39,  6, 15,\n",
       "         21, 18, 39, 14, 15, 23,  0,  0,  0,  0,  0,  0,  0,  0,  0,  0,\n",
       "          0,  0,  0,  0,  0,  0,  0,  0]], dtype=int64))"
      ]
     },
     "execution_count": 47,
     "metadata": {},
     "output_type": "execute_result"
    }
   ],
   "source": [
    "sample = test_data.next(); sample"
   ]
  },
  {
   "cell_type": "code",
   "execution_count": 48,
   "id": "61002f92",
   "metadata": {},
   "outputs": [
    {
     "name": "stdout",
     "output_type": "stream",
     "text": [
      "1/1 [==============================] - 7s 7s/step\n"
     ]
    }
   ],
   "source": [
    "yhat = model.predict(sample[0])"
   ]
  },
  {
   "cell_type": "code",
   "execution_count": 49,
   "id": "5ef23e7c",
   "metadata": {},
   "outputs": [
    {
     "name": "stdout",
     "output_type": "stream",
     "text": [
      "~~~~~~~~~~~~~~~~~~~~~~~~~~~~~~~~~~~~~~~~~~~~~~~~~~~~~~~~~~~~~~~~~~~~~~~~~~~~~~~~~~~~~~~~~~~~~~~~~~~~ REAL TEXT\n"
     ]
    },
    {
     "data": {
      "text/plain": [
       "[<tf.Tensor: shape=(), dtype=string, numpy=b'bin white with h three soon'>,\n",
       " <tf.Tensor: shape=(), dtype=string, numpy=b'lay blue at q four now'>]"
      ]
     },
     "execution_count": 49,
     "metadata": {},
     "output_type": "execute_result"
    }
   ],
   "source": [
    "print('~'*100, 'REAL TEXT')\n",
    "[tf.strings.reduce_join([num_to_char(word) for word in sentence]) for sentence in sample[1]]"
   ]
  },
  {
   "cell_type": "code",
   "execution_count": 50,
   "id": "b3da3ca6",
   "metadata": {},
   "outputs": [],
   "source": [
    "decoded = tf.keras.backend.ctc_decode(yhat, input_length=[75,75], greedy=True)[0][0].numpy()"
   ]
  },
  {
   "cell_type": "code",
   "execution_count": 51,
   "id": "3d5cef4e",
   "metadata": {},
   "outputs": [
    {
     "name": "stdout",
     "output_type": "stream",
     "text": [
      "~~~~~~~~~~~~~~~~~~~~~~~~~~~~~~~~~~~~~~~~~~~~~~~~~~~~~~~~~~~~~~~~~~~~~~~~~~~~~~~~~~~~~~~~~~~~~~~~~~~~ PREDICTIONS\n"
     ]
    },
    {
     "data": {
      "text/plain": [
       "[<tf.Tensor: shape=(), dtype=string, numpy=b'bin white with h three soon'>,\n",
       " <tf.Tensor: shape=(), dtype=string, numpy=b'lay blue at q four now'>]"
      ]
     },
     "execution_count": 51,
     "metadata": {},
     "output_type": "execute_result"
    }
   ],
   "source": [
    "print('~'*100, 'PREDICTIONS')\n",
    "[tf.strings.reduce_join([num_to_char(word) for word in sentence]) for sentence in decoded]"
   ]
  },
  {
   "cell_type": "markdown",
   "id": "8778da5a",
   "metadata": {},
   "source": [
    "## Testing on a random video"
   ]
  },
  {
   "cell_type": "code",
   "execution_count": 52,
   "id": "ca0d5196",
   "metadata": {},
   "outputs": [],
   "source": [
    "sample = load_data(tf.convert_to_tensor('.\\\\data\\\\s1\\\\swih7s.mpg'))"
   ]
  },
  {
   "cell_type": "code",
   "execution_count": 53,
   "id": "a456c3cb",
   "metadata": {},
   "outputs": [
    {
     "name": "stdout",
     "output_type": "stream",
     "text": [
      "~~~~~~~~~~~~~~~~~~~~~~~~~~~~~~~~~~~~~~~~~~~~~~~~~~~~~~~~~~~~~~~~~~~~~~~~~~~~~~~~~~~~~~~~~~~~~~~~~~~~ REAL TEXT\n"
     ]
    },
    {
     "data": {
      "text/plain": [
       "[<tf.Tensor: shape=(), dtype=string, numpy=b'set white in h seven soon'>]"
      ]
     },
     "execution_count": 53,
     "metadata": {},
     "output_type": "execute_result"
    }
   ],
   "source": [
    "print('~'*100, 'REAL TEXT')\n",
    "[tf.strings.reduce_join([num_to_char(word) for word in sentence]) for sentence in [sample[1]]]"
   ]
  },
  {
   "cell_type": "code",
   "execution_count": 54,
   "id": "cb7e3270",
   "metadata": {},
   "outputs": [
    {
     "name": "stdout",
     "output_type": "stream",
     "text": [
      "1/1 [==============================] - 2s 2s/step\n"
     ]
    }
   ],
   "source": [
    "yhat = model.predict(tf.expand_dims(sample[0], axis=0))"
   ]
  },
  {
   "cell_type": "code",
   "execution_count": 55,
   "id": "7d715d30",
   "metadata": {},
   "outputs": [],
   "source": [
    "decoded = tf.keras.backend.ctc_decode(yhat, input_length=[75], greedy=True)[0][0].numpy()"
   ]
  },
  {
   "cell_type": "code",
   "execution_count": 69,
   "id": "f90f7d79",
   "metadata": {},
   "outputs": [
    {
     "name": "stdout",
     "output_type": "stream",
     "text": [
      "~~~~~~~~~~~~~~~~~~~~~~~~~~~~~~~~~~~~~~~~~~~~~~~~~~~~~~~~~~~~~~~~~~~~~~~~~~~~~~~~~~~~~~~~~~~~~~~~~~~~ PREDICTIONS\n"
     ]
    },
    {
     "data": {
      "text/plain": [
       "[<tf.Tensor: shape=(), dtype=string, numpy=b'set white in h seven soon'>]"
      ]
     },
     "execution_count": 69,
     "metadata": {},
     "output_type": "execute_result"
    }
   ],
   "source": [
    "print('~'*100, 'PREDICTIONS')\n",
    "[tf.strings.reduce_join([num_to_char(word) for word in sentence]) for sentence in decoded]"
   ]
  },
  {
   "cell_type": "markdown",
   "id": "19891da8",
   "metadata": {},
   "source": [
    "## Facial Emotion Recognition\n"
   ]
  },
  {
   "cell_type": "code",
   "execution_count": 57,
   "id": "04701ff3",
   "metadata": {},
   "outputs": [
    {
     "name": "stdout",
     "output_type": "stream",
     "text": [
      "k\n"
     ]
    }
   ],
   "source": [
    "print(\"k\")"
   ]
  },
  {
   "cell_type": "code",
   "execution_count": 61,
   "id": "e244c4fa",
   "metadata": {},
   "outputs": [],
   "source": [
    "from fer import Video\n",
    "from fer import FER\n",
    "import os\n",
    "import sys\n",
    "import pandas as pd\n",
    "# Put in the location of the video file that has to be processed\n",
    "location_videofile = \".\\\\data\\\\s1\\\\swih7s.mpg\""
   ]
  },
  {
   "cell_type": "code",
   "execution_count": 62,
   "id": "38dbc189",
   "metadata": {},
   "outputs": [],
   "source": [
    "# But the Face detection detector\n",
    "face_detector = FER(mtcnn=True)\n",
    "# Input the video for processing\n",
    "input_video = Video(location_videofile)"
   ]
  },
  {
   "cell_type": "code",
   "execution_count": 63,
   "id": "d03d5c22",
   "metadata": {},
   "outputs": [
    {
     "name": "stderr",
     "output_type": "stream",
     "text": [
      "INFO:fer:25.00 fps, 75 frames, 3.00 seconds\n",
      "INFO:fer:Making directories at output\n",
      " 84%|█████████████████████████████████████████████████████████████████████████████████████████                 | 63/75 [00:07<00:01,  8.22frames/s]\n",
      "INFO:fer:Completed analysis: saved to output\\swih7s_output.mpg\n",
      "INFO:fer:Starting to Zip\n",
      "INFO:fer:Compressing: 79%\n",
      "INFO:fer:Zip has finished\n"
     ]
    }
   ],
   "source": [
    "# The Analyze() function will run analysis on every frame of the input video. \n",
    "\n",
    "processing_data = input_video.analyze(face_detector, display=False)"
   ]
  },
  {
   "cell_type": "code",
   "execution_count": 65,
   "id": "4490c3e7",
   "metadata": {},
   "outputs": [
    {
     "data": {
      "image/png": "[encoded data removed]",
      "text/plain": [
       "<Figure size 2000x800 with 1 Axes>"
      ]
     },
     "metadata": {},
     "output_type": "display_data"
    }
   ],
   "source": [
    "# We will now convert the analysed information into a dataframe.\n",
    "\n",
    "vid_df = input_video.to_pandas(processing_data)\n",
    "vid_df = input_video.get_first_face(vid_df)\n",
    "vid_df = input_video.get_emotions(vid_df)\n",
    "\n",
    "# Plotting the emotions against time in the video\n",
    "pltfig = vid_df.plot(figsize=(20, 8), fontsize=16).get_figure()"
   ]
  },
  {
   "cell_type": "code",
   "execution_count": 66,
   "id": "6ddf9517",
   "metadata": {},
   "outputs": [
    {
     "data": {
      "text/html": [
       "<div>\n",
       "<style scoped>\n",
       "    .dataframe tbody tr th:only-of-type {\n",
       "        vertical-align: middle;\n",
       "    }\n",
       "\n",
       "    .dataframe tbody tr th {\n",
       "        vertical-align: top;\n",
       "    }\n",
       "\n",
       "    .dataframe thead th {\n",
       "        text-align: right;\n",
       "    }\n",
       "</style>\n",
       "<table border=\"1\" class=\"dataframe\">\n",
       "  <thead>\n",
       "    <tr style=\"text-align: right;\">\n",
       "      <th></th>\n",
       "      <th>Human Emotions</th>\n",
       "      <th>Emotion Value from the Video</th>\n",
       "    </tr>\n",
       "  </thead>\n",
       "  <tbody>\n",
       "    <tr>\n",
       "      <th>0</th>\n",
       "      <td>Angry</td>\n",
       "      <td>6.16</td>\n",
       "    </tr>\n",
       "    <tr>\n",
       "      <th>1</th>\n",
       "      <td>Disgust</td>\n",
       "      <td>0.52</td>\n",
       "    </tr>\n",
       "    <tr>\n",
       "      <th>2</th>\n",
       "      <td>Fear</td>\n",
       "      <td>1.72</td>\n",
       "    </tr>\n",
       "    <tr>\n",
       "      <th>3</th>\n",
       "      <td>Happy</td>\n",
       "      <td>0.00</td>\n",
       "    </tr>\n",
       "    <tr>\n",
       "      <th>4</th>\n",
       "      <td>Sad</td>\n",
       "      <td>12.20</td>\n",
       "    </tr>\n",
       "    <tr>\n",
       "      <th>5</th>\n",
       "      <td>Surprise</td>\n",
       "      <td>0.04</td>\n",
       "    </tr>\n",
       "    <tr>\n",
       "      <th>6</th>\n",
       "      <td>Neutral</td>\n",
       "      <td>37.10</td>\n",
       "    </tr>\n",
       "  </tbody>\n",
       "</table>\n",
       "</div>"
      ],
      "text/plain": [
       "  Human Emotions  Emotion Value from the Video\n",
       "0          Angry                          6.16\n",
       "1        Disgust                          0.52\n",
       "2           Fear                          1.72\n",
       "3          Happy                          0.00\n",
       "4            Sad                         12.20\n",
       "5       Surprise                          0.04\n",
       "6        Neutral                         37.10"
      ]
     },
     "execution_count": 66,
     "metadata": {},
     "output_type": "execute_result"
    }
   ],
   "source": [
    "# We will now work on the dataframe to extract which emotion was prominent in the video\n",
    "angry = sum(vid_df.angry)\n",
    "disgust = sum(vid_df.disgust)\n",
    "fear = sum(vid_df.fear)\n",
    "happy = sum(vid_df.happy)\n",
    "sad = sum(vid_df.sad)\n",
    "surprise = sum(vid_df.surprise)\n",
    "neutral = sum(vid_df.neutral)\n",
    "\n",
    "emotions = ['Angry', 'Disgust', 'Fear', 'Happy', 'Sad', 'Surprise', 'Neutral']\n",
    "emotions_values = [angry, disgust, fear, happy, sad, surprise, neutral]\n",
    "\n",
    "score_comparisons = pd.DataFrame(emotions, columns = ['Human Emotions'])\n",
    "score_comparisons['Emotion Value from the Video'] = emotions_values\n",
    "score_comparisons"
   ]
  },
  {
   "cell_type": "code",
   "execution_count": 70,
   "id": "2f8f6bdb",
   "metadata": {},
   "outputs": [],
   "source": []
  }
 ],
 "metadata": {
  "kernelspec": {
   "display_name": "Python 3 (ipykernel)",
   "language": "python",
   "name": "python3"
  },
  "language_info": {
   "codemirror_mode": {
    "name": "ipython",
    "version": 3
   },
   "file_extension": ".py",
   "mimetype": "text/x-python",
   "name": "python",
   "nbconvert_exporter": "python",
   "pygments_lexer": "ipython3",
   "version": "3.9.0"
  }
 },
 "nbformat": 4,
 "nbformat_minor": 5
}
